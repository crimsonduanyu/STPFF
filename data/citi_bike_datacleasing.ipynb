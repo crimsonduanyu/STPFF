{
 "cells": [
  {
   "cell_type": "code",
   "execution_count": 4,
   "outputs": [],
   "source": [
    "import pandas as pd\n",
    "file_list = [\n",
    "    '202204-citibike-tripdata.csv',\n",
    "    '202205-citibike-tripdata.csv',\n",
    "    '202206-citibike-tripdata.csv',\n",
    "    '202207-citibike-tripdata.csv',\n",
    "    '202208-citibike-tripdata.csv',\n",
    "    '202209-citibike-tripdata.csv']\n",
    "\n",
    "#df = pd.read_csv('202204-citibike-tripdata.csv')\n",
    "#print(df[0:2])\n",
    "region_name = 'Manhattan'\n",
    "\n"
   ],
   "metadata": {
    "collapsed": false,
    "pycharm": {
     "name": "#%%\n"
    }
   }
  },
  {
   "cell_type": "code",
   "execution_count": 5,
   "outputs": [],
   "source": [
    "usable_data = pd.DataFrame(columns=['ride_id','rideable_type',\n",
    "                     'started_at','ended_at',\n",
    "                     'start_station_name','start_station_id',\n",
    "                     'end_station_name','end_station_id',\n",
    "                     'start_lat','start_lng',\n",
    "                     'end_lat','end_lng',\n",
    "                     'member_casual'])\n",
    "\n"
   ],
   "metadata": {
    "collapsed": false,
    "pycharm": {
     "name": "#%%\n"
    }
   }
  },
  {
   "cell_type": "code",
   "execution_count": 6,
   "outputs": [
    {
     "name": "stderr",
     "output_type": "stream",
     "text": [
      "100%|██████████| 2317238/2317238 [02:52<00:00, 13449.44it/s]\n",
      "100%|██████████| 2936577/2936577 [09:12<00:00, 5311.36it/s] \n",
      " 57%|█████▋    | 1948094/3426527 [10:35<08:02, 3066.85it/s] \n"
     ]
    },
    {
     "ename": "KeyboardInterrupt",
     "evalue": "",
     "output_type": "error",
     "traceback": [
      "\u001B[1;31m---------------------------------------------------------------------------\u001B[0m",
      "\u001B[1;31mKeyError\u001B[0m                                  Traceback (most recent call last)",
      "File \u001B[1;32m~\\miniconda3\\envs\\torch\\lib\\site-packages\\pandas\\core\\indexes\\base.py:3621\u001B[0m, in \u001B[0;36mIndex.get_loc\u001B[1;34m(self, key, method, tolerance)\u001B[0m\n\u001B[0;32m   3620\u001B[0m \u001B[38;5;28;01mtry\u001B[39;00m:\n\u001B[1;32m-> 3621\u001B[0m     \u001B[38;5;28;01mreturn\u001B[39;00m \u001B[38;5;28;43mself\u001B[39;49m\u001B[38;5;241;43m.\u001B[39;49m\u001B[43m_engine\u001B[49m\u001B[38;5;241;43m.\u001B[39;49m\u001B[43mget_loc\u001B[49m\u001B[43m(\u001B[49m\u001B[43mcasted_key\u001B[49m\u001B[43m)\u001B[49m\n\u001B[0;32m   3622\u001B[0m \u001B[38;5;28;01mexcept\u001B[39;00m \u001B[38;5;167;01mKeyError\u001B[39;00m \u001B[38;5;28;01mas\u001B[39;00m err:\n",
      "File \u001B[1;32m~\\miniconda3\\envs\\torch\\lib\\site-packages\\pandas\\_libs\\index.pyx:136\u001B[0m, in \u001B[0;36mpandas._libs.index.IndexEngine.get_loc\u001B[1;34m()\u001B[0m\n",
      "File \u001B[1;32m~\\miniconda3\\envs\\torch\\lib\\site-packages\\pandas\\_libs\\index.pyx:163\u001B[0m, in \u001B[0;36mpandas._libs.index.IndexEngine.get_loc\u001B[1;34m()\u001B[0m\n",
      "File \u001B[1;32mpandas\\_libs\\hashtable_class_helper.pxi:2131\u001B[0m, in \u001B[0;36mpandas._libs.hashtable.Int64HashTable.get_item\u001B[1;34m()\u001B[0m\n",
      "File \u001B[1;32mpandas\\_libs\\hashtable_class_helper.pxi:2140\u001B[0m, in \u001B[0;36mpandas._libs.hashtable.Int64HashTable.get_item\u001B[1;34m()\u001B[0m\n",
      "\u001B[1;31mKeyError\u001B[0m: 89935",
      "\nDuring handling of the above exception, another exception occurred:\n",
      "\u001B[1;31mKeyboardInterrupt\u001B[0m                         Traceback (most recent call last)",
      "Input \u001B[1;32mIn [6]\u001B[0m, in \u001B[0;36m<cell line: 3>\u001B[1;34m()\u001B[0m\n\u001B[0;32m      8\u001B[0m bar\u001B[38;5;241m.\u001B[39mupdate(\u001B[38;5;241m1\u001B[39m)\n\u001B[0;32m      9\u001B[0m \u001B[38;5;28;01mif\u001B[39;00m region_name \u001B[38;5;129;01min\u001B[39;00m row[\u001B[38;5;241m4\u001B[39m] \u001B[38;5;129;01mor\u001B[39;00m region_name \u001B[38;5;129;01min\u001B[39;00m row[\u001B[38;5;241m6\u001B[39m]:\n\u001B[0;32m     10\u001B[0m     \u001B[38;5;66;03m#print(row)\u001B[39;00m\n\u001B[1;32m---> 11\u001B[0m     usable_data\u001B[38;5;241m.\u001B[39mloc[\u001B[38;5;28mlen\u001B[39m(usable_data)] \u001B[38;5;241m=\u001B[39m row\n\u001B[0;32m     12\u001B[0m     \u001B[38;5;28;01mpass\u001B[39;00m\n\u001B[0;32m     13\u001B[0m \u001B[38;5;28;01mpass\u001B[39;00m\n",
      "File \u001B[1;32m~\\miniconda3\\envs\\torch\\lib\\site-packages\\pandas\\core\\indexing.py:712\u001B[0m, in \u001B[0;36m_LocationIndexer.__setitem__\u001B[1;34m(self, key, value)\u001B[0m\n\u001B[0;32m    710\u001B[0m \u001B[38;5;28;01melse\u001B[39;00m:\n\u001B[0;32m    711\u001B[0m     key \u001B[38;5;241m=\u001B[39m com\u001B[38;5;241m.\u001B[39mapply_if_callable(key, \u001B[38;5;28mself\u001B[39m\u001B[38;5;241m.\u001B[39mobj)\n\u001B[1;32m--> 712\u001B[0m indexer \u001B[38;5;241m=\u001B[39m \u001B[38;5;28;43mself\u001B[39;49m\u001B[38;5;241;43m.\u001B[39;49m\u001B[43m_get_setitem_indexer\u001B[49m\u001B[43m(\u001B[49m\u001B[43mkey\u001B[49m\u001B[43m)\u001B[49m\n\u001B[0;32m    713\u001B[0m \u001B[38;5;28mself\u001B[39m\u001B[38;5;241m.\u001B[39m_has_valid_setitem_indexer(key)\n\u001B[0;32m    715\u001B[0m iloc \u001B[38;5;241m=\u001B[39m \u001B[38;5;28mself\u001B[39m \u001B[38;5;28;01mif\u001B[39;00m \u001B[38;5;28mself\u001B[39m\u001B[38;5;241m.\u001B[39mname \u001B[38;5;241m==\u001B[39m \u001B[38;5;124m\"\u001B[39m\u001B[38;5;124miloc\u001B[39m\u001B[38;5;124m\"\u001B[39m \u001B[38;5;28;01melse\u001B[39;00m \u001B[38;5;28mself\u001B[39m\u001B[38;5;241m.\u001B[39mobj\u001B[38;5;241m.\u001B[39miloc\n",
      "File \u001B[1;32m~\\miniconda3\\envs\\torch\\lib\\site-packages\\pandas\\core\\indexing.py:666\u001B[0m, in \u001B[0;36m_LocationIndexer._get_setitem_indexer\u001B[1;34m(self, key)\u001B[0m\n\u001B[0;32m    663\u001B[0m \u001B[38;5;28;01mif\u001B[39;00m \u001B[38;5;28misinstance\u001B[39m(key, \u001B[38;5;28mrange\u001B[39m):\n\u001B[0;32m    664\u001B[0m     \u001B[38;5;28;01mreturn\u001B[39;00m \u001B[38;5;28mlist\u001B[39m(key)\n\u001B[1;32m--> 666\u001B[0m \u001B[38;5;28;01mreturn\u001B[39;00m \u001B[38;5;28;43mself\u001B[39;49m\u001B[38;5;241;43m.\u001B[39;49m\u001B[43m_convert_to_indexer\u001B[49m\u001B[43m(\u001B[49m\u001B[43mkey\u001B[49m\u001B[43m,\u001B[49m\u001B[43m \u001B[49m\u001B[43maxis\u001B[49m\u001B[38;5;241;43m=\u001B[39;49m\u001B[38;5;241;43m0\u001B[39;49m\u001B[43m)\u001B[49m\n",
      "File \u001B[1;32m~\\miniconda3\\envs\\torch\\lib\\site-packages\\pandas\\core\\indexing.py:1252\u001B[0m, in \u001B[0;36m_LocIndexer._convert_to_indexer\u001B[1;34m(self, key, axis)\u001B[0m\n\u001B[0;32m   1247\u001B[0m \u001B[38;5;28;01mif\u001B[39;00m is_scalar(key) \u001B[38;5;129;01mor\u001B[39;00m (\u001B[38;5;28misinstance\u001B[39m(labels, MultiIndex) \u001B[38;5;129;01mand\u001B[39;00m is_hashable(key)):\n\u001B[0;32m   1248\u001B[0m     \u001B[38;5;66;03m# Otherwise get_loc will raise InvalidIndexError\u001B[39;00m\n\u001B[0;32m   1249\u001B[0m \n\u001B[0;32m   1250\u001B[0m     \u001B[38;5;66;03m# if we are a label return me\u001B[39;00m\n\u001B[0;32m   1251\u001B[0m     \u001B[38;5;28;01mtry\u001B[39;00m:\n\u001B[1;32m-> 1252\u001B[0m         \u001B[38;5;28;01mreturn\u001B[39;00m \u001B[43mlabels\u001B[49m\u001B[38;5;241;43m.\u001B[39;49m\u001B[43mget_loc\u001B[49m\u001B[43m(\u001B[49m\u001B[43mkey\u001B[49m\u001B[43m)\u001B[49m\n\u001B[0;32m   1253\u001B[0m     \u001B[38;5;28;01mexcept\u001B[39;00m \u001B[38;5;167;01mLookupError\u001B[39;00m:\n\u001B[0;32m   1254\u001B[0m         \u001B[38;5;28;01mif\u001B[39;00m \u001B[38;5;28misinstance\u001B[39m(key, \u001B[38;5;28mtuple\u001B[39m) \u001B[38;5;129;01mand\u001B[39;00m \u001B[38;5;28misinstance\u001B[39m(labels, MultiIndex):\n",
      "File \u001B[1;32m~\\miniconda3\\envs\\torch\\lib\\site-packages\\pandas\\core\\indexes\\base.py:3621\u001B[0m, in \u001B[0;36mIndex.get_loc\u001B[1;34m(self, key, method, tolerance)\u001B[0m\n\u001B[0;32m   3619\u001B[0m casted_key \u001B[38;5;241m=\u001B[39m \u001B[38;5;28mself\u001B[39m\u001B[38;5;241m.\u001B[39m_maybe_cast_indexer(key)\n\u001B[0;32m   3620\u001B[0m \u001B[38;5;28;01mtry\u001B[39;00m:\n\u001B[1;32m-> 3621\u001B[0m     \u001B[38;5;28;01mreturn\u001B[39;00m \u001B[38;5;28;43mself\u001B[39;49m\u001B[38;5;241;43m.\u001B[39;49m\u001B[43m_engine\u001B[49m\u001B[38;5;241;43m.\u001B[39;49m\u001B[43mget_loc\u001B[49m\u001B[43m(\u001B[49m\u001B[43mcasted_key\u001B[49m\u001B[43m)\u001B[49m\n\u001B[0;32m   3622\u001B[0m \u001B[38;5;28;01mexcept\u001B[39;00m \u001B[38;5;167;01mKeyError\u001B[39;00m \u001B[38;5;28;01mas\u001B[39;00m err:\n\u001B[0;32m   3623\u001B[0m     \u001B[38;5;28;01mraise\u001B[39;00m \u001B[38;5;167;01mKeyError\u001B[39;00m(key) \u001B[38;5;28;01mfrom\u001B[39;00m \u001B[38;5;21;01merr\u001B[39;00m\n",
      "\u001B[1;31mKeyboardInterrupt\u001B[0m: "
     ]
    }
   ],
   "source": [
    "from tqdm import tqdm\n",
    "\n",
    "for csv_file in file_list:\n",
    "    df = pd.read_csv(csv_file,low_memory=False)\n",
    "    df = df.dropna(axis=0,how='any')\n",
    "    with tqdm(total=len(df)) as bar:\n",
    "        for index,row in df.iterrows():\n",
    "            bar.update(1)\n",
    "            if region_name in row[4] or region_name in row[6]:\n",
    "                #print(row)\n",
    "                usable_data.loc[len(usable_data)] = row\n",
    "                pass\n",
    "            pass\n",
    "    pass\n",
    "\n",
    "\n",
    "\n",
    "usable_data.to_csv('usable_data.csv')\n",
    "\n",
    "print('done')"
   ],
   "metadata": {
    "collapsed": false,
    "pycharm": {
     "name": "#%%\n"
    }
   }
  }
 ],
 "metadata": {
  "kernelspec": {
   "display_name": "Python 3",
   "language": "python",
   "name": "python3"
  },
  "language_info": {
   "codemirror_mode": {
    "name": "ipython",
    "version": 2
   },
   "file_extension": ".py",
   "mimetype": "text/x-python",
   "name": "python",
   "nbconvert_exporter": "python",
   "pygments_lexer": "ipython2",
   "version": "2.7.6"
  }
 },
 "nbformat": 4,
 "nbformat_minor": 0
}